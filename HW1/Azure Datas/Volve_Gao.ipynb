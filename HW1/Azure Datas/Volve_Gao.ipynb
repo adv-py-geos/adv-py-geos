{
 "cells": [
  {
   "cell_type": "code",
   "execution_count": 1,
   "metadata": {},
   "outputs": [],
   "source": [
    "# This notobook connects to the azure cloud and reads in the volve dataset.\n",
    "# Further work will go into showing how to explore the dataset\n",
    "# How to look at the different type of folders and what files each of them contain\n",
    "# and how to perform operations/read in the a specific files and import it into pandas or xarray\n",
    "# More informations on the file can be found here\n",
    "# I figured out how to connect to the file by following the setps n the link below as well\n",
    "# This file looks specifically at the files contained in the WITSML Realtime drilling data folder\n",
    "# As for now i am more interested in how I can access the name of the other folders, through python, before choosing a filename to explore\n",
    "# https://frombitumentobinary.com/volve-dataset-exploration.html\n",
    "# More information here https://www.equinor.com/en/how-and-why/digitalisation-in-our-dna/volve-field-data-village-download.html"
   ]
  },
  {
   "cell_type": "code",
   "execution_count": 2,
   "metadata": {},
   "outputs": [],
   "source": [
    "from azure.storage.blob import BlockBlobService\n",
    "import numpy as np\n",
    "import matplotlib.pyplot as plt"
   ]
  },
  {
   "cell_type": "code",
   "execution_count": 3,
   "metadata": {},
   "outputs": [],
   "source": [
    "# simple defautdict func\n",
    "\n",
    "def defaultdict(default_type):\n",
    "    class DefaultDict(dict):\n",
    "        def __getitem__(self, key):\n",
    "            if key not in self:\n",
    "                dict.__setitem__(self, key, default_type())\n",
    "            return dict.__getitem__(self, key)\n",
    "    return DefaultDict()"
   ]
  },
  {
   "cell_type": "code",
   "execution_count": 4,
   "metadata": {},
   "outputs": [],
   "source": [
    "# List the account name and sas_token *** I have removed the SAS token in order to allow the user to register properly thorugh Equinor's data portal\n",
    "azure_storage_account_name = 'datavillagesa'\n",
    "sas_token = 'sv=2018-03-28&sr=c&sig=FNDgr%2F3XMiqowXZyuQTLk8SVuBHSKbWQHCqbeK06eSQ%3D&se=2020-10-15T19%3A07%3A24Z&sp=rl'\n",
    "\n",
    "# Create a service and use the SAS \n",
    "sas_blob_service = BlockBlobService( \n",
    "    account_name=azure_storage_account_name, \n",
    "    sas_token=sas_token)\n",
    "\n",
    "filename = 'WITSML Realtime drilling data/'\n",
    "\n",
    "blob = sas_blob_service.list_blobs('volve', filename)"
   ]
  },
  {
   "cell_type": "code",
   "execution_count": 5,
   "metadata": {},
   "outputs": [],
   "source": [
    "dirs = []\n",
    "for item in blob.items:\n",
    "    dirs.append(item.name)\n",
    "    "
   ]
  },
  {
   "cell_type": "code",
   "execution_count": null,
   "metadata": {},
   "outputs": [
    {
     "name": "stdout",
     "output_type": "stream",
     "text": [
      "{}\n",
      "WITSML Realtime drilling data/NA-NA-15_$47$_9-F-5/1/log/1/1/1/00001.xml\n"
     ]
    }
   ],
   "source": [
    "# Initialize count variable\n",
    "x = 0\n",
    "print_var = False\n",
    "sub_dirs_length = defaultdict(int)\n",
    "# Initialize dictionary - defaultdict initialized every key to 0\n",
    "sub_dirs = defaultdict(int)\n",
    "print(sub_dirs)\n",
    "# Iterate through list generator\n",
    "for b in blob:\n",
    "    x+=1\n",
    "    # Perform this test to avoid files directly under the WITSML folder\n",
    "    if len(b.name.split('/')) > 2:\n",
    "        sub_dirs[b.name.split('/')[1]] += 1\n",
    "        sub_dirs_length[b.name.split('/')[1]] += b.properties.content_length\n",
    "        # Not the prettiest way to show an exmample folder structure\n",
    "        if not print_var and len(b.name.split('/')) > 5:\n",
    "            print(b.name)\n",
    "            print_var = True\n",
    "\n",
    "print('Total Number of Files in WITSML folder: ' + str(x))\n",
    "print('Total Number of Folders under WITSML folder: ' + str(len(sub_dirs)))\n",
    "well_names = set(x[x.find('1'):] for x in sub_dirs.keys())\n",
    "print('Total number of wells: ' + str(len(well_names)))\n",
    "print('Folders contained under WITSML Folder: ')\n",
    "for key in sub_dirs.keys():\n",
    "    print(key)"
   ]
  },
  {
   "cell_type": "code",
   "execution_count": null,
   "metadata": {},
   "outputs": [],
   "source": [
    "plt.figure(figsize = (10,5))\n",
    "plt.bar(range(len(sub_dirs)), list(sub_dirs.values()), align='center')\n",
    "plt.xticks(range(len(sub_dirs)), list(sub_dirs.keys()), rotation='vertical')\n",
    "plt.title('File number statistics')\n",
    "plt.show()"
   ]
  },
  {
   "cell_type": "code",
   "execution_count": null,
   "metadata": {},
   "outputs": [],
   "source": [
    "plt.figure(figsize = (10,5))\n",
    "plt.bar(range(len(sub_dirs_length)), list(sub_dirs_length.values()), align='center')\n",
    "plt.xticks(range(len(sub_dirs_length)), list(sub_dirs_length.keys()), rotation='vertical')\n",
    "plt.title('Total Folder Size by Folder')\n",
    "plt.ylabel('Bytes')\n",
    "plt.show()"
   ]
  }
 ],
 "metadata": {
  "kernelspec": {
   "display_name": "Python 3",
   "language": "python",
   "name": "python3"
  },
  "language_info": {
   "codemirror_mode": {
    "name": "ipython",
    "version": 3
   },
   "file_extension": ".py",
   "mimetype": "text/x-python",
   "name": "python",
   "nbconvert_exporter": "python",
   "pygments_lexer": "ipython3",
   "version": "3.7.5"
  }
 },
 "nbformat": 4,
 "nbformat_minor": 4
}
